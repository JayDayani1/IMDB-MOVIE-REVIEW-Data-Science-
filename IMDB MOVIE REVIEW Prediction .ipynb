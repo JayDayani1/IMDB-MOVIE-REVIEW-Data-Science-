{
 "cells": [
  {
   "cell_type": "markdown",
   "metadata": {
    "id": "0EoTx374EToZ"
   },
   "source": [
    "**IMDB MOVIE REVIEW**"
   ]
  },
  {
   "cell_type": "code",
   "execution_count": 2,
   "metadata": {
    "id": "gdd078Og3Oqe"
   },
   "outputs": [],
   "source": [
    "import pandas as pd\n",
    "import warnings\n",
    "warnings.filterwarnings('ignore')"
   ]
  },
  {
   "cell_type": "markdown",
   "metadata": {
    "id": "N8ux4bjsJUXR"
   },
   "source": [
    "Here we load the data and check the five rows"
   ]
  },
  {
   "cell_type": "code",
   "execution_count": 3,
   "metadata": {
    "colab": {
     "base_uri": "https://localhost:8080/",
     "height": 206
    },
    "id": "tiGKp6Cl6ZJB",
    "outputId": "2a25cbcf-b3f4-42e9-930a-9869a6c374d7"
   },
   "outputs": [
    {
     "data": {
      "text/html": [
       "\n",
       "  <div id=\"df-bf381c31-b1cc-44d7-9cfb-54549ff45561\">\n",
       "    <div class=\"colab-df-container\">\n",
       "      <div>\n",
       "<style scoped>\n",
       "    .dataframe tbody tr th:only-of-type {\n",
       "        vertical-align: middle;\n",
       "    }\n",
       "\n",
       "    .dataframe tbody tr th {\n",
       "        vertical-align: top;\n",
       "    }\n",
       "\n",
       "    .dataframe thead th {\n",
       "        text-align: right;\n",
       "    }\n",
       "</style>\n",
       "<table border=\"1\" class=\"dataframe\">\n",
       "  <thead>\n",
       "    <tr style=\"text-align: right;\">\n",
       "      <th></th>\n",
       "      <th>review</th>\n",
       "      <th>sentiment</th>\n",
       "    </tr>\n",
       "  </thead>\n",
       "  <tbody>\n",
       "    <tr>\n",
       "      <th>0</th>\n",
       "      <td>I thought this was a wonderful way to spend ti...</td>\n",
       "      <td>positive</td>\n",
       "    </tr>\n",
       "    <tr>\n",
       "      <th>1</th>\n",
       "      <td>Probably my all-time favorite movie, a story o...</td>\n",
       "      <td>positive</td>\n",
       "    </tr>\n",
       "    <tr>\n",
       "      <th>2</th>\n",
       "      <td>I sure would like to see a resurrection of a u...</td>\n",
       "      <td>positive</td>\n",
       "    </tr>\n",
       "    <tr>\n",
       "      <th>3</th>\n",
       "      <td>This show was an amazing, fresh &amp; innovative i...</td>\n",
       "      <td>negative</td>\n",
       "    </tr>\n",
       "    <tr>\n",
       "      <th>4</th>\n",
       "      <td>Encouraged by the positive comments about this...</td>\n",
       "      <td>negative</td>\n",
       "    </tr>\n",
       "  </tbody>\n",
       "</table>\n",
       "</div>\n",
       "      <button class=\"colab-df-convert\" onclick=\"convertToInteractive('df-bf381c31-b1cc-44d7-9cfb-54549ff45561')\"\n",
       "              title=\"Convert this dataframe to an interactive table.\"\n",
       "              style=\"display:none;\">\n",
       "        \n",
       "  <svg xmlns=\"http://www.w3.org/2000/svg\" height=\"24px\"viewBox=\"0 0 24 24\"\n",
       "       width=\"24px\">\n",
       "    <path d=\"M0 0h24v24H0V0z\" fill=\"none\"/>\n",
       "    <path d=\"M18.56 5.44l.94 2.06.94-2.06 2.06-.94-2.06-.94-.94-2.06-.94 2.06-2.06.94zm-11 1L8.5 8.5l.94-2.06 2.06-.94-2.06-.94L8.5 2.5l-.94 2.06-2.06.94zm10 10l.94 2.06.94-2.06 2.06-.94-2.06-.94-.94-2.06-.94 2.06-2.06.94z\"/><path d=\"M17.41 7.96l-1.37-1.37c-.4-.4-.92-.59-1.43-.59-.52 0-1.04.2-1.43.59L10.3 9.45l-7.72 7.72c-.78.78-.78 2.05 0 2.83L4 21.41c.39.39.9.59 1.41.59.51 0 1.02-.2 1.41-.59l7.78-7.78 2.81-2.81c.8-.78.8-2.07 0-2.86zM5.41 20L4 18.59l7.72-7.72 1.47 1.35L5.41 20z\"/>\n",
       "  </svg>\n",
       "      </button>\n",
       "      \n",
       "  <style>\n",
       "    .colab-df-container {\n",
       "      display:flex;\n",
       "      flex-wrap:wrap;\n",
       "      gap: 12px;\n",
       "    }\n",
       "\n",
       "    .colab-df-convert {\n",
       "      background-color: #E8F0FE;\n",
       "      border: none;\n",
       "      border-radius: 50%;\n",
       "      cursor: pointer;\n",
       "      display: none;\n",
       "      fill: #1967D2;\n",
       "      height: 32px;\n",
       "      padding: 0 0 0 0;\n",
       "      width: 32px;\n",
       "    }\n",
       "\n",
       "    .colab-df-convert:hover {\n",
       "      background-color: #E2EBFA;\n",
       "      box-shadow: 0px 1px 2px rgba(60, 64, 67, 0.3), 0px 1px 3px 1px rgba(60, 64, 67, 0.15);\n",
       "      fill: #174EA6;\n",
       "    }\n",
       "\n",
       "    [theme=dark] .colab-df-convert {\n",
       "      background-color: #3B4455;\n",
       "      fill: #D2E3FC;\n",
       "    }\n",
       "\n",
       "    [theme=dark] .colab-df-convert:hover {\n",
       "      background-color: #434B5C;\n",
       "      box-shadow: 0px 1px 3px 1px rgba(0, 0, 0, 0.15);\n",
       "      filter: drop-shadow(0px 1px 2px rgba(0, 0, 0, 0.3));\n",
       "      fill: #FFFFFF;\n",
       "    }\n",
       "  </style>\n",
       "\n",
       "      <script>\n",
       "        const buttonEl =\n",
       "          document.querySelector('#df-bf381c31-b1cc-44d7-9cfb-54549ff45561 button.colab-df-convert');\n",
       "        buttonEl.style.display =\n",
       "          google.colab.kernel.accessAllowed ? 'block' : 'none';\n",
       "\n",
       "        async function convertToInteractive(key) {\n",
       "          const element = document.querySelector('#df-bf381c31-b1cc-44d7-9cfb-54549ff45561');\n",
       "          const dataTable =\n",
       "            await google.colab.kernel.invokeFunction('convertToInteractive',\n",
       "                                                     [key], {});\n",
       "          if (!dataTable) return;\n",
       "\n",
       "          const docLinkHtml = 'Like what you see? Visit the ' +\n",
       "            '<a target=\"_blank\" href=https://colab.research.google.com/notebooks/data_table.ipynb>data table notebook</a>'\n",
       "            + ' to learn more about interactive tables.';\n",
       "          element.innerHTML = '';\n",
       "          dataTable['output_type'] = 'display_data';\n",
       "          await google.colab.output.renderOutput(dataTable, element);\n",
       "          const docLink = document.createElement('div');\n",
       "          docLink.innerHTML = docLinkHtml;\n",
       "          element.appendChild(docLink);\n",
       "        }\n",
       "      </script>\n",
       "    </div>\n",
       "  </div>\n",
       "  "
      ],
      "text/plain": [
       "                                              review sentiment\n",
       "0  I thought this was a wonderful way to spend ti...  positive\n",
       "1  Probably my all-time favorite movie, a story o...  positive\n",
       "2  I sure would like to see a resurrection of a u...  positive\n",
       "3  This show was an amazing, fresh & innovative i...  negative\n",
       "4  Encouraged by the positive comments about this...  negative"
      ]
     },
     "execution_count": 3,
     "metadata": {},
     "output_type": "execute_result"
    }
   ],
   "source": [
    "dataSet = pd.read_excel('IMDB_dataset6k.xlsx')\n",
    "dataSet.head()"
   ]
  },
  {
   "cell_type": "markdown",
   "metadata": {
    "id": "sGqBgARvJZlh"
   },
   "source": [
    "Our data has total 25000 rows and this becomes so difficult for local device to run so we take 6000 records"
   ]
  },
  {
   "cell_type": "code",
   "execution_count": 4,
   "metadata": {
    "colab": {
     "base_uri": "https://localhost:8080/"
    },
    "id": "t69CLvT_6ZLQ",
    "outputId": "f81f0bcc-b085-4079-ce5a-b535bb527c52"
   },
   "outputs": [
    {
     "data": {
      "text/plain": [
       "(6017, 2)"
      ]
     },
     "execution_count": 4,
     "metadata": {},
     "output_type": "execute_result"
    }
   ],
   "source": [
    "dataSet.shape"
   ]
  },
  {
   "cell_type": "markdown",
   "metadata": {
    "id": "Knx3Zn18Jd-w"
   },
   "source": [
    "**Question 1:-Preprocess Text Data Remove punctuation, Perform Tokenization, Remove stopwords and Lemmatize/Stem**"
   ]
  },
  {
   "cell_type": "code",
   "execution_count": 5,
   "metadata": {
    "colab": {
     "base_uri": "https://localhost:8080/"
    },
    "id": "iB46mTpJ6ZNh",
    "outputId": "497adb83-18ae-4f9d-d378-9b486a95d11c"
   },
   "outputs": [
    {
     "name": "stderr",
     "output_type": "stream",
     "text": [
      "[nltk_data] Downloading package stopwords to /root/nltk_data...\n",
      "[nltk_data]   Unzipping corpora/stopwords.zip.\n",
      "[nltk_data] Downloading package wordnet to /root/nltk_data...\n"
     ]
    },
    {
     "data": {
      "text/plain": [
       "True"
      ]
     },
     "execution_count": 5,
     "metadata": {},
     "output_type": "execute_result"
    }
   ],
   "source": [
    "import nltk\n",
    "nltk.download('stopwords')\n",
    "nltk.download('wordnet')"
   ]
  },
  {
   "cell_type": "markdown",
   "metadata": {
    "id": "il9yrzeeJgiY"
   },
   "source": [
    "Here we have take Lammatization because lemmatization is generally considered to be better than stemming because it produces a more accurate base form of a word"
   ]
  },
  {
   "cell_type": "code",
   "execution_count": 6,
   "metadata": {
    "id": "ASdxR5bH6ZP5"
   },
   "outputs": [],
   "source": [
    "import string\n",
    "from nltk.corpus import stopwords\n",
    "from nltk.stem import WordNetLemmatizer\n",
    "\n",
    "# Create a lemmatizer object\n",
    "lemmatizer = WordNetLemmatizer()\n",
    "\n",
    "# Create a set of stopwords for English language\n",
    "stop_words = set(stopwords.words('english'))\n",
    "\n",
    "def preprocess_text(text):\n",
    "    \"\"\"\n",
    "    Preprocesses the given text by removing punctuation, stop words and lemmatizing the words.\n",
    "    \"\"\"\n",
    "    # Remove punctuation from text\n",
    "    text = text.translate(str.maketrans('', '', string.punctuation))\n",
    "    \n",
    "    # Tokenize the text into individual words\n",
    "    tokens = text.split()\n",
    "    \n",
    "    # Remove stopwords from the list of tokens\n",
    "    tokens = [token for token in tokens if token.lower() not in stop_words]\n",
    "    \n",
    "    # Lemmatize the words in the list of tokens\n",
    "    lemmatized_tokens = [lemmatizer.lemmatize(token) for token in tokens]\n",
    "    \n",
    "    # Join the lemmatized tokens to form a string again\n",
    "    preprocessed_text = ' '.join(lemmatized_tokens)\n",
    "    \n",
    "    return preprocessed_text\n",
    "\n",
    "# Apply preprocess_text function to the 'review' column of the dataSet\n",
    "dataSet['review'] = dataSet['review'].apply(preprocess_text)"
   ]
  },
  {
   "cell_type": "markdown",
   "metadata": {
    "id": "UbCG71pgJlSZ"
   },
   "source": [
    "**Question 2:- Perform TFIDF Vectorization**"
   ]
  },
  {
   "cell_type": "code",
   "execution_count": 7,
   "metadata": {
    "id": "2rxT4yuF6ZSR"
   },
   "outputs": [],
   "source": [
    "from sklearn.model_selection import train_test_split\n",
    "\n",
    "X_train, X_test, y_train, y_test = train_test_split(dataSet['review'], dataSet['sentiment'], test_size=0.5, stratify=dataSet['sentiment'])"
   ]
  },
  {
   "cell_type": "code",
   "execution_count": 8,
   "metadata": {
    "id": "zqdXIKZE6ZUX"
   },
   "outputs": [],
   "source": [
    "# Import the TfidfVectorizer from scikit-learn's feature extraction module\n",
    "from sklearn.feature_extraction.text import TfidfVectorizer\n",
    "\n",
    "# Create a TfidfVectorizer object\n",
    "tfidf_vectorizer = TfidfVectorizer()\n",
    "\n",
    "# Fit the TfidfVectorizer to the training data and transform it\n",
    "X_train_tfidf = tfidf_vectorizer.fit_transform(X_train)\n",
    "\n",
    "# Transform the test data using the fitted TfidfVectorizer\n",
    "X_test_tfidf = tfidf_vectorizer.transform(X_test)"
   ]
  },
  {
   "cell_type": "markdown",
   "metadata": {
    "id": "Ej2KUM31JpEh"
   },
   "source": [
    "**Question 3:- Exploring parameter settings using GridSearchCV on Random Forest** **& Gradient Boosting Classifier. Use Xgboost instead of Gradient** **Boosting if it's taking a very long time in GridSearchCV**\n",
    "\n",
    "**Question 4:- Perform Final evaluation of models on the best parameter settings using the evaluation metrics**"
   ]
  },
  {
   "cell_type": "markdown",
   "metadata": {
    "id": "67v0ZN-JJ3lh"
   },
   "source": [
    "**RandomForestClassifier**"
   ]
  },
  {
   "cell_type": "code",
   "execution_count": 9,
   "metadata": {
    "colab": {
     "base_uri": "https://localhost:8080/"
    },
    "id": "Swnz5WNn6ZWw",
    "outputId": "21b90f87-2233-4068-8b1a-d3755f3c7943"
   },
   "outputs": [
    {
     "name": "stdout",
     "output_type": "stream",
     "text": [
      "Best parameters for Random Forest:  {'max_depth': 10, 'max_features': 'sqrt', 'min_samples_leaf': 1, 'min_samples_split': 10, 'n_estimators': 300}\n",
      "Training accuracy for Random Forest:  0.8434132481301928\n",
      "Testing accuracy for Random Forest:  0.8334995014955134\n"
     ]
    }
   ],
   "source": [
    "# Import necessary modules\n",
    "from sklearn.ensemble import RandomForestClassifier\n",
    "from sklearn.model_selection import GridSearchCV\n",
    "\n",
    "# Create a Random Forest Classifier object\n",
    "randomForestClassifier = RandomForestClassifier()\n",
    "\n",
    "# Set the parameters for Grid Search\n",
    "params = {\n",
    "    'n_estimators': [100, 200, 300], # Number of trees in the forest\n",
    "    'max_depth': [None, 10, 20], # Maximum depth of each tree in the forest\n",
    "    'min_samples_split': [2, 5, 10], # Minimum number of samples required to split a node\n",
    "    'min_samples_leaf': [1, 2, 4], # Minimum number of samples required at each leaf node\n",
    "    'max_features': ['auto', 'sqrt', 'log2'] # Maximum number of features to consider for splitting a node\n",
    "}\n",
    "\n",
    "# Create a Grid Search object with 5-fold cross validation\n",
    "grid_randomForestClassifier = GridSearchCV(randomForestClassifier, params, cv=5)\n",
    "\n",
    "# Fit the Grid Search object on the training data\n",
    "grid_randomForestClassifier.fit(X_train_tfidf, y_train)\n",
    "\n",
    "# Print the best parameters found by Grid Search\n",
    "print(\"Best parameters for Random Forest: \", grid_randomForestClassifier.best_params_)\n",
    "\n",
    "# Print the training accuracy of the best model found by Grid Search\n",
    "print(\"Training accuracy for Random Forest: \", grid_randomForestClassifier.best_score_)\n",
    "\n",
    "# Print the testing accuracy of the best model found by Grid Search\n",
    "print(\"Testing accuracy for Random Forest: \", grid_randomForestClassifier.score(X_test_tfidf, y_test))\n",
    "\n"
   ]
  },
  {
   "cell_type": "markdown",
   "metadata": {
    "id": "0LMhkjy4J9PY"
   },
   "source": [
    "**XGBClassifier**"
   ]
  },
  {
   "cell_type": "code",
   "execution_count": 10,
   "metadata": {
    "colab": {
     "base_uri": "https://localhost:8080/"
    },
    "id": "t-aeYAid6ZZX",
    "outputId": "e21498f2-4b92-426c-a0a4-21b48997912d"
   },
   "outputs": [
    {
     "name": "stdout",
     "output_type": "stream",
     "text": [
      "Best parameters for XGBoost: {'colsample_bytree': 0.5, 'gamma': 5, 'learning_rate': 0.1, 'max_depth': 9, 'n_estimators': 300, 'subsample': 1}\n",
      "Training accuracy for XGBoost: 0.8657264151941433\n",
      "Testing accuracy for XGBoost: 0.8482793577371045\n"
     ]
    }
   ],
   "source": [
    "from xgboost import XGBClassifier\n",
    "from sklearn.ensemble import GradientBoostingClassifier\n",
    "from sklearn.model_selection import GridSearchCV\n",
    "\n",
    "# # Create a GradientBoostingClassifier object\n",
    "# gbClassifier = GradientBoostingClassifier()\n",
    "\n",
    "# # Define the hyperparameter grid\n",
    "# params = {\n",
    "#     'n_estimators': [100, 200, 300],\n",
    "#     'max_depth': [None, 3, 6],\n",
    "#     'min_samples_split': [2, 5, 10],\n",
    "#     'min_samples_leaf': [1, 2, 4],\n",
    "#     'max_features': ['auto', 'sqrt', 'log2']\n",
    "# }\n",
    "\n",
    "# # Create a GridSearchCV object for GradientBoostingClassifier\n",
    "# grid_gbClassifier = GridSearchCV(gbClassifier, params, cv=5)\n",
    "\n",
    "# # Fit the GridSearchCV object to the training data\n",
    "# grid_gbClassifier.fit(X_train_tfidf, y_train)\n",
    "\n",
    "# # Print the best parameters and accuracy for GradientBoostingClassifier\n",
    "# print(\"Best parameters for Gradient Boosting: \", grid_gbClassifier.best_params_)\n",
    "# print(\"Training accuracy for Gradient Boosting: \", grid_gbClassifier.best_score_)\n",
    "# print(\"Testing accuracy for Gradient Boosting: \", grid_gbClassifier.score(X_test_tfidf, y_test))\n",
    "\n",
    "# Create an XGBClassifier object\n",
    "xgbClassifier = XGBClassifier()\n",
    "\n",
    "# Define the hyperparameter grid for XGBClassifier\n",
    "params = {\n",
    "    'n_estimators': [100, 200, 300],\n",
    "    'max_depth': [3, 6, 9],\n",
    "    'learning_rate': [0.1, 0.01, 0.001],\n",
    "    'subsample': [0.5, 0.7, 1],\n",
    "    'colsample_bytree': [0.5, 0.7, 1],\n",
    "    'gamma': [0, 1, 5]\n",
    "}\n",
    "\n",
    "# Create a GridSearchCV object for XGBClassifier\n",
    "grid_xgbClassifier = GridSearchCV(xgbClassifier, params, cv=5)\n",
    "\n",
    "# Fit the GridSearchCV object to the training data\n",
    "grid_xgbClassifier.fit(X_train_tfidf, y_train)\n",
    "\n",
    "# Print the best parameters and accuracy for XGBClassifier\n",
    "print(\"Best parameters for XGBoost: \", grid_xgbClassifier.best_params_)\n",
    "print(\"Training accuracy for XGBoost: \", grid_xgbClassifier.best_score_)\n",
    "print(\"Testing accuracy for XGBoost: \", grid_xgbClassifier.score(X_test_tfidf, y_test))\n",
    "\n",
    "\n"
   ]
  },
  {
   "cell_type": "markdown",
   "metadata": {
    "id": "Xf8poMhDKSZJ"
   },
   "source": [
    "**Question 5:- Report the best performing model**"
   ]
  },
  {
   "cell_type": "markdown",
   "metadata": {
    "id": "6E_6jzneKZiw"
   },
   "source": [
    "The best performing model appears to be XGBoost. It has a higher testing accuracy than the Random Forest model and a higher training accuracy than the Logistic Regression model (assuming that there is a Logistic Regression model as well). Additionally, it has the best hyperparameters among the two models, which were determined through a grid search. Therefore, XGBoost is the recommended model to use for this classification task."
   ]
  },
  {
   "cell_type": "code",
   "execution_count": null,
   "metadata": {
    "id": "-rOxm6iI6ZcA"
   },
   "outputs": [],
   "source": []
  }
 ],
 "metadata": {
  "colab": {
   "provenance": []
  },
  "kernelspec": {
   "display_name": "Python 3 (ipykernel)",
   "language": "python",
   "name": "python3"
  },
  "language_info": {
   "codemirror_mode": {
    "name": "ipython",
    "version": 3
   },
   "file_extension": ".py",
   "mimetype": "text/x-python",
   "name": "python",
   "nbconvert_exporter": "python",
   "pygments_lexer": "ipython3",
   "version": "3.9.13"
  }
 },
 "nbformat": 4,
 "nbformat_minor": 1
}
